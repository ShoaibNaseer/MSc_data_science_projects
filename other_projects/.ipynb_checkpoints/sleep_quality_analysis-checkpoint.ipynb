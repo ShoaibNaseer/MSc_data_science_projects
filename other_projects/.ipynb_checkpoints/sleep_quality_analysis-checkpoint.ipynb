{
 "cells": [
  {
   "cell_type": "markdown",
   "id": "e92de44d",
   "metadata": {},
   "source": [
    "## Introduction\n",
    "\n",
    "Quality sleep is essential for overall well-being, and understanding the factors affecting sleep health offers valuable insights for improving sleep patterns. This article analyzes a dataset on sleep health and lifestyle, unveiling interesting relationships between sleep duration, physical activity, stress, and sleep quality. The subsequent guide breaks down these findings, offering practical implications for better sleep habits."
   ]
  },
  {
   "cell_type": "code",
   "execution_count": null,
   "id": "50ec766e",
   "metadata": {},
   "outputs": [],
   "source": [
    "import numpy as np\n",
    "import pandas as pd\n",
    "import matplotlib.pyplot as plt\n",
    "import seaborn as sns"
   ]
  },
  {
   "cell_type": "code",
   "execution_count": null,
   "id": "0472fa9d",
   "metadata": {},
   "outputs": [],
   "source": [
    "df = pd.read_csv('Sleep_health_and_lifestyle_dataset.csv')"
   ]
  },
  {
   "cell_type": "code",
   "execution_count": null,
   "id": "7696b92d",
   "metadata": {},
   "outputs": [],
   "source": []
  },
  {
   "cell_type": "code",
   "execution_count": null,
   "id": "2c300131",
   "metadata": {},
   "outputs": [],
   "source": []
  }
 ],
 "metadata": {
  "kernelspec": {
   "display_name": "Python 3 (ipykernel)",
   "language": "python",
   "name": "python3"
  },
  "language_info": {
   "codemirror_mode": {
    "name": "ipython",
    "version": 3
   },
   "file_extension": ".py",
   "mimetype": "text/x-python",
   "name": "python",
   "nbconvert_exporter": "python",
   "pygments_lexer": "ipython3",
   "version": "3.11.7"
  }
 },
 "nbformat": 4,
 "nbformat_minor": 5
}
